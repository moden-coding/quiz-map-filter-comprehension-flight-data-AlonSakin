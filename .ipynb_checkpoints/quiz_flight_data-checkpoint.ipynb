{
 "cells": [
  {
   "cell_type": "markdown",
   "id": "c5d33370",
   "metadata": {
    "id": "c5d33370"
   },
   "source": [
    "\n",
    "#Flight Departure Sample (On‑Time & Delays)\n",
    "**Instructions:**  \n",
    "- You will work directly in this notebook.  \n",
    "- For each task, write *both* your code **and** a short explanation of how your code works (1–3 sentences).  \n",
    "- Keep your answers in the provided `# TODO` cells. Do not delete the original dataset cells.\n",
    "\n",
    "---\n"
   ]
  },
  {
   "cell_type": "markdown",
   "id": "397fd34c",
   "metadata": {
    "id": "397fd34c"
   },
   "source": [
    "**Dataset:** A small, realistic sample inspired by U.S. domestic flight records. Fields per record:  \n",
    "`flight_id, airline, origin, dest, dep_delay_minutes, arr_delay_minutes, distance_miles`\n",
    "\n",
    "> A negative delay means the plane **departed/arrived early**. An on-time arrival is defined as `arr_delay_minutes ≤ 0`.\n"
   ]
  },
  {
   "cell_type": "code",
   "execution_count": 1,
   "id": "0662cb00",
   "metadata": {
    "id": "0662cb00"
   },
   "outputs": [
    {
     "data": {
      "text/plain": [
       "(20,\n",
       " [(101, 'DL', 'BOS', 'ATL', 15, -2, 946),\n",
       "  (102, 'DL', 'BOS', 'DTW', -3, -5, 632),\n",
       "  (111, 'DL', 'ATL', 'MIA', 25, 18, 594)])"
      ]
     },
     "execution_count": 1,
     "metadata": {},
     "output_type": "execute_result"
    }
   ],
   "source": [
    "\n",
    "# ----- DATA: Flights -----\n",
    "flights = [\n",
    "   (101, \"DL\", \"BOS\", \"ATL\",  15,  -2,   946),\n",
    "    (102, \"DL\", \"BOS\", \"DTW\",  -3,  -5,   632),\n",
    "    (111, \"DL\", \"ATL\", \"MIA\",  25,  18,   594),\n",
    "    (112, \"DL\", \"LAX\", \"JFK\", -5,   45,  2475),\n",
    "    (103, \"AA\", \"JFK\", \"CLT\",  40,  35,   541),\n",
    "    (104, \"AA\", \"LGA\", \"ORD\",  -7, -10,   733),\n",
    "    (113, \"AA\", \"DFW\", \"LAX\",  12,   5,  1235),\n",
    "    (114, \"AA\", \"PHL\", \"MIA\",  60,  75,  1013),\n",
    "    (105, \"UA\", \"EWR\", \"DEN\",  52,  60,  1605),\n",
    "    (106, \"UA\", \"BOS\", \"IAD\",   5,  -3,   413),\n",
    "    (115, \"UA\", \"ORD\", \"SFO\",  30,  25,  1846),\n",
    "    (116, \"UA\", \"LAX\", \"HNL\", -15,  40,  2556),\n",
    "    (107, \"B6\", \"JFK\", \"MCO\",  28,  22,   944),\n",
    "    (108, \"B6\", \"BOS\", \"FLL\",  -2,  -8,  1240),\n",
    "    (117, \"B6\", \"FLL\", \"AUS\",  20,  15,  1105),\n",
    "    (118, \"B6\", \"LAX\", \"BOS\",  55,  50,  2611),\n",
    "    (109, \"WN\", \"BOS\", \"BWI\",  12,  -1,   369),\n",
    "    (110, \"WN\", \"BOS\", \"MDW\",  20,  18,   853),\n",
    "    (119, \"WN\", \"DAL\", \"HOU\",   5,   0,    239),\n",
    "    (120, \"WN\", \"PHX\", \"LAS\", -12, -15,   255),\n",
    "]\n",
    "len(flights), flights[:3]\n"
   ]
  },
  {
   "cell_type": "markdown",
   "id": "780967e5",
   "metadata": {
    "id": "780967e5"
   },
   "source": [
    "\n",
    "## Tasks (answer all)\n",
    "1. **On-time flights:** Create a list **on_time_ids** of flight IDs where the arrival delay (arr_delay_min) is ≤ 0. The list might look like: [212, 251,...], but with the appropriate flight numbers from the data above."
   ]
  },
  {
   "cell_type": "code",
   "execution_count": 2,
   "id": "Tm5B0JEAOB3q",
   "metadata": {
    "id": "Tm5B0JEAOB3q"
   },
   "outputs": [
    {
     "data": {
      "text/plain": [
       "[101, 102, 104, 106, 108, 109, 119, 120]"
      ]
     },
     "execution_count": 2,
     "metadata": {},
     "output_type": "execute_result"
    }
   ],
   "source": [
    "# Solution 1:\n",
    "\n",
    "on_time_ids = [flight[0] for flight in flights if flight[5] <= 0]\n",
    "\n",
    "on_time_ids"
   ]
  },
  {
   "cell_type": "markdown",
   "id": "ca29ed84-7096-4df5-bb81-d544489ce3ba",
   "metadata": {},
   "source": [
    "This code works using a list comprehension which iterates over all of the flights and adds the flight id to the list only if the arrival delay is less than or equal to 0."
   ]
  },
  {
   "cell_type": "code",
   "execution_count": 3,
   "id": "5cIDOSKnOCLh",
   "metadata": {
    "id": "5cIDOSKnOCLh"
   },
   "outputs": [
    {
     "data": {
      "text/plain": [
       "[101, 102, 104, 106, 108, 109, 119, 120]"
      ]
     },
     "execution_count": 3,
     "metadata": {},
     "output_type": "execute_result"
    }
   ],
   "source": [
    "# Solution 2:\n",
    "\n",
    "on_time_ids = list(map(lambda flight: flight[0], filter(lambda flight: flight[5] <= 0, flights)))\n",
    "\n",
    "on_time_ids"
   ]
  },
  {
   "cell_type": "markdown",
   "id": "48abc51b-dcf4-4fe0-9b69-fbd1a152c036",
   "metadata": {},
   "source": [
    "This code works by filtering the flights list for flights less than or equal to 0, and then using map to take out the flight id and put it in a new list."
   ]
  },
  {
   "cell_type": "markdown",
   "id": "VPRLDvH1OD0y",
   "metadata": {
    "id": "VPRLDvH1OD0y"
   },
   "source": [
    "2.  **Worst flights ever**: Create a list `red_eye_misery` of (origin, destination, dep_delay_min, arr_delay_min, distance_miles) for flights that are the worst of both worlds:\n",
    "\n",
    "*   They are long-haul flights (distance_miles >= 1500),\n",
    "*   They depart early (dep_delay_min < 0), but\n",
    "*   Still arrive late (arr_delay_min > 0).\n",
    "\n",
    "The result should be a list of tuples."
   ]
  },
  {
   "cell_type": "code",
   "execution_count": 4,
   "id": "Xejx774VU4oI",
   "metadata": {
    "id": "Xejx774VU4oI"
   },
   "outputs": [
    {
     "data": {
      "text/plain": [
       "[('LAX', 'JFK', -5, 45, 2475), ('LAX', 'HNL', -15, 40, 2556)]"
      ]
     },
     "execution_count": 4,
     "metadata": {},
     "output_type": "execute_result"
    }
   ],
   "source": [
    "# Solution 1:\n",
    "\n",
    "red_eye_misery = [flight[2:] for flight in flights if flight[6] >= 1500 and flight[4] < 0 and flight[5] > 0]\n",
    "\n",
    "red_eye_misery"
   ]
  },
  {
   "cell_type": "markdown",
   "id": "2e59e7b3-76c3-482e-8573-1a9e27951eb0",
   "metadata": {},
   "source": [
    "This code works similarly to my first solution for the previous problem, but it has more conditions in the if statement and instead of putting the flight id in the list by itself, it slices the flight tuple to take away the first 2 values."
   ]
  },
  {
   "cell_type": "code",
   "execution_count": 5,
   "id": "602368d0-db84-4f62-a464-7a2d60a82bf0",
   "metadata": {},
   "outputs": [
    {
     "data": {
      "text/plain": [
       "[('LAX', 'JFK', -5, 45, 2475), ('LAX', 'HNL', -15, 40, 2556)]"
      ]
     },
     "execution_count": 5,
     "metadata": {},
     "output_type": "execute_result"
    }
   ],
   "source": [
    "# Solution 2:\n",
    "\n",
    "red_eye_misery = list(map(lambda flight: flight[2:], filter(lambda flight: flight[6] >= 1500 and flight[4] < 0 and flight[5] > 0, flights)))\n",
    "\n",
    "red_eye_misery"
   ]
  },
  {
   "cell_type": "markdown",
   "id": "b4d2a13b-31f3-4a73-9978-0c52887c94f1",
   "metadata": {},
   "source": [
    "This code works by using filter to only keep the flight tuples that match the requirements, and then uses map to return the needed data and put it in a new list."
   ]
  },
  {
   "cell_type": "markdown",
   "id": "1z25_dSnOEKq",
   "metadata": {
    "id": "1z25_dSnOEKq"
   },
   "source": [
    "3. **Late arrivals:** Build a dictionary `late_flight` mapping flight_id -> {\"long\": bool, \"ontime\": bool} where:\n",
    "*   `\"long\"` is `True` if the flight distance is ≥ 1500 miles\n",
    "*  `\"ontime\"` is `True` if the flight arrived on time (`arr_delay_min` <= 0)\n",
    "\n",
    "\n",
    "\n"
   ]
  },
  {
   "cell_type": "code",
   "execution_count": 6,
   "id": "I_Bn6QU-OEZA",
   "metadata": {
    "id": "I_Bn6QU-OEZA"
   },
   "outputs": [
    {
     "data": {
      "text/plain": [
       "{101: {'long': False, 'ontime': True},\n",
       " 102: {'long': False, 'ontime': True},\n",
       " 111: {'long': False, 'ontime': False},\n",
       " 112: {'long': True, 'ontime': False},\n",
       " 103: {'long': False, 'ontime': False},\n",
       " 104: {'long': False, 'ontime': True},\n",
       " 113: {'long': False, 'ontime': False},\n",
       " 114: {'long': False, 'ontime': False},\n",
       " 105: {'long': True, 'ontime': False},\n",
       " 106: {'long': False, 'ontime': True},\n",
       " 115: {'long': True, 'ontime': False},\n",
       " 116: {'long': True, 'ontime': False},\n",
       " 107: {'long': False, 'ontime': False},\n",
       " 108: {'long': False, 'ontime': True},\n",
       " 117: {'long': False, 'ontime': False},\n",
       " 118: {'long': True, 'ontime': False},\n",
       " 109: {'long': False, 'ontime': True},\n",
       " 110: {'long': False, 'ontime': False},\n",
       " 119: {'long': False, 'ontime': True},\n",
       " 120: {'long': False, 'ontime': True}}"
      ]
     },
     "execution_count": 6,
     "metadata": {},
     "output_type": "execute_result"
    }
   ],
   "source": [
    "# Solution:\n",
    "\n",
    "late_flight = {flight[0]: {\"long\": flight[6] >= 1500, \"ontime\": flight[5] <= 0} for flight in flights}\n",
    "\n",
    "late_flight"
   ]
  },
  {
   "cell_type": "markdown",
   "id": "666a384e-9278-48d2-8445-14d298f5eb8d",
   "metadata": {},
   "source": [
    "This code works using a dictionary comprehension which iterates over every flight and adds it to the dictionary with the proper information."
   ]
  }
 ],
 "metadata": {
  "colab": {
   "provenance": []
  },
  "kernelspec": {
   "display_name": "Python 3 (ipykernel)",
   "language": "python",
   "name": "python3"
  },
  "language_info": {
   "codemirror_mode": {
    "name": "ipython",
    "version": 3
   },
   "file_extension": ".py",
   "mimetype": "text/x-python",
   "name": "python",
   "nbconvert_exporter": "python",
   "pygments_lexer": "ipython3",
   "version": "3.13.5"
  }
 },
 "nbformat": 4,
 "nbformat_minor": 5
}
